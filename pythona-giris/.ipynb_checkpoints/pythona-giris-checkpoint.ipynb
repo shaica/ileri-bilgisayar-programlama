{
 "cells": [
  {
   "cell_type": "markdown",
   "metadata": {},
   "source": [
    "# Python"
   ]
  },
  {
   "cell_type": "markdown",
   "metadata": {},
   "source": [
    "Başlamadan önce aşağıdaki hücreyi *shift+enter* veya *ctrl+enter* tuşlarına basarak çalıştırınız. Böylece bu defterde kullanacağımız python kütüphaneleri yüklenmiş olacaktır."
   ]
  },
  {
   "cell_type": "code",
   "execution_count": null,
   "metadata": {},
   "outputs": [],
   "source": [
    "import numpy as np\n",
    "import matplotlib.pyplot as plot\n",
    "print(\"Kütüphaneler başarıyla yüklendi.\")"
   ]
  },
  {
   "cell_type": "markdown",
   "metadata": {},
   "source": [
    "## Python Hakkında Temel Bilgiler "
   ]
  },
  {
   "cell_type": "markdown",
   "metadata": {},
   "source": [
    "Bu ders boyunca Python dilini ve değişkenler, listeler, döngüler ve koşul ifadeleri gibi tanımlardan bahsedeceğiz. Her konuyla ilgili ayrıntılı bilgiler ilgili Jupyter defterlerinde verilecektir. Bu defterde genel tanımlamalar yapılacaktır.\n",
    "\n",
    "\n",
    "### Değişkenler\n",
    "\n",
    "Sayısal veya yazısal değer atayabildiğimiz her şey **değişken**dir. Değişkenler bellekte bir yer tutar ve atadığımız değeri buraya kaydeder.\n",
    "\n",
    "Değişkenin bir adı ve değeri vardır. Değişkenler,\n",
    "\n",
    "```\n",
    "degiskenAdi = degiskenDegeri\n",
    "```\n",
    "şeklinde tanımlanırlar.\n",
    "\n",
    "Python'da değişkenleri tanımlarken değişken tipini önceden belirtmeye gerek yoktur.\n",
    "\n",
    "**Aşağıdaki hücreyi *shift+enter* veya *ctrl+enter* tuşlarına basarak çalıştırınız. $x$ değişkeninin tipini *int* (tam sayı) olarak sonuç satırında görmelisiniz.**"
   ]
  },
  {
   "cell_type": "code",
   "execution_count": null,
   "metadata": {},
   "outputs": [],
   "source": [
    "x = 5 # x: değişken adı, 5: değişken değeri\n",
    "type(x) # x değişkeninin tipini belirlemek için kullanılan metod"
   ]
  },
  {
   "cell_type": "markdown",
   "metadata": {},
   "source": [
    "**Aşağıdaki hücreyi *shift+enter* veya *ctrl+enter* tuşlarına basarak çalıştırınız. $x$ değişkeninin tipini *float* (ondalıklı sayı) olarak sonuç satırında görmelisiniz.**"
   ]
  },
  {
   "cell_type": "code",
   "execution_count": null,
   "metadata": {},
   "outputs": [],
   "source": [
    "x = 5.0 # x: değişken adı, 5.0: değişken değeri\n",
    "type(x) # x değişkeninin tipini belirlemek için kullanılan metod"
   ]
  },
  {
   "cell_type": "markdown",
   "metadata": {},
   "source": [
    "Bir değişkene yazısal bir değer atamak için değişken değeri tırnak içinde yazılır. \"\", '' veya \"\"\" \"\"\" şeklinde tanımlamalar yapılabilir. Bu tanımlamaların farklarıyla ilgili *string nedir?* dersinde ayrıntılı bilgi verilecektir.\n",
    "\n",
    "**Aşağıdaki hücreyi *shift+enter* veya *ctrl+enter* tuşlarına basarak çalıştırınız. $x$ değişkeninin tipini *str* (karakter dizisi) olarak sonuç satırında görmelisiniz.**"
   ]
  },
  {
   "cell_type": "code",
   "execution_count": null,
   "metadata": {},
   "outputs": [],
   "source": [
    "x = \"5\"\n",
    "type(x)"
   ]
  },
  {
   "cell_type": "markdown",
   "metadata": {},
   "source": [
    "> Gördüğümüz üzere değişkenin tipi yeni atadığımız değerlere göre değişmektedir!\n",
    "\n",
    "> Bu yüzden bir değişkenin değerini güncellerken dikkatli olmalısınız."
   ]
  },
  {
   "cell_type": "markdown",
   "metadata": {},
   "source": [
    "### Diziler ve Listeler\n",
    "\n",
    "Diziler ve listeler veri yapılarıdır ve bir kerede birden çok değeri tutabilirler. İkisi arasındaki temel fark diziler sadece sayısal değerler tutarken listeler aynı anda hem sayısal hem de yazısal değer tutabilirler.\n",
    "\n",
    "> Diziler matematik ve fizikte kullandığımız *vektörlerin* programlama dilindeki adıdır ve boyutu $(1\\times n)$'dir.\n",
    "\n",
    "\n",
    "$a$  bir dizi ve $l$ bir liste olsun. \n",
    "\n",
    "Aşağıdaki hücreyi çalıştırarak ikisinin arasındaki farkı gözlemleyiniz."
   ]
  },
  {
   "cell_type": "code",
   "execution_count": null,
   "metadata": {},
   "outputs": [],
   "source": [
    "a = np.array([1,2,3])\n",
    "l = [1,2,3]\n",
    "\n",
    "type(a),type(l)"
   ]
  },
  {
   "cell_type": "markdown",
   "metadata": {},
   "source": [
    "### Koşul İfadeleri\n",
    "\n",
    "Koşul ifadeleri bir değişkenin değerinin ne olduğuna bağlı olarak farklı işlemler yapmamızı sağlayan ifadelerdir.\n",
    "\n",
    "Bir değişkenin değeriyle ilgili **if-elif-else** (eğer-eğer bu-hiçbiri) koşul ifadeleriyle inceleyebiliriz.\n",
    "\n",
    "Aradığımız cevap **binary** (ikili) olabilir:\n",
    "\n",
    "* $x$ değişkenin değeri 4'ten büyük mü küçük mü?\n",
    "\n",
    "Bu sorunun cevabı ya **evet** ya da **hayır**dır.\n",
    "\n",
    "Bu durumlarda kullandığımız koşul ifadesi **if-else**'tir."
   ]
  },
  {
   "cell_type": "code",
   "execution_count": null,
   "metadata": {},
   "outputs": [],
   "source": [
    "#Change the value of epsilon to observe the result of the conditional below:\n",
    "\n",
    "x = 5\n",
    "\n",
    "if x <= 4:\n",
    "    print(\"x 4'e eşit veya 4'ten daha küçüktür.\")\n",
    "else:\n",
    "    print(\"x'in değeri 4'ten büyüktür.\")"
   ]
  },
  {
   "cell_type": "markdown",
   "metadata": {},
   "source": [
    "Eğer cevaplamak istediğimiz soru birden fazla koşulu değerlendirmemizi gerektiriyorsa **if-elif-else** koşul ifadesini kullanmamız gerekir. \n",
    "\n",
    "*$x$'in değeri 4'ten büyük mü?*\n",
    "*Eğer değilse, $x$'in değeri 1'den büyük mü?*\n",
    "\n",
    "Böyle bir sorunun cevabını aşağıdaki Python koduyla bulabiliriz."
   ]
  },
  {
   "cell_type": "code",
   "execution_count": null,
   "metadata": {},
   "outputs": [],
   "source": [
    "x = 9\n",
    "\n",
    "# x'in değerini değiştirerek sonuç çıktısının üzerindeki etkisini inceleyiniz.\n",
    "\n",
    "if x <= 4:\n",
    "    print(\"x 4'e eşit veya daha küçüktür.\")\n",
    "elif x <=10:\n",
    "    print(\"x 4'ten büyük 10'dan küçüktür.\")\n",
    "else:\n",
    "    print(\"x 10'dan daha büyüktür.\")"
   ]
  },
  {
   "cell_type": "markdown",
   "metadata": {},
   "source": [
    "Bir kere birden fazla **elif** koşulunu kullanabiliriz:"
   ]
  },
  {
   "cell_type": "code",
   "execution_count": null,
   "metadata": {},
   "outputs": [],
   "source": [
    "meyve = \" \"\n",
    "\n",
    "#Sonuç üzerindeki etkisini görmek için meyve değişkenin değerini \"\" içine yazarak değiştiriniz.\n",
    "\n",
    "if meyve == \"elma\":\n",
    "    print(\"Bu meyve bir elma\")\n",
    "elif meyve == \"armut\":\n",
    "    print(\"Bu meyve bir armut\")\n",
    "elif meyve == \"şeftali\":\n",
    "    print(\"Bu meyve bir şeftali\")\n",
    "elif meyve == \"muz\":\n",
    "    print(\"Bu meyve bir muz\")\n",
    "else:\n",
    "    print(\"Bu meyve elma, armut, şeftali veya muz değil. Başka bir şey olmalı!\")"
   ]
  },
  {
   "cell_type": "markdown",
   "metadata": {},
   "source": [
    "### Döngüler\n",
    "\n",
    "Bilgisayarlar yapmalarını istediğimiz işlemleri tekrarlı (iteratif) olarak yaparlar. Bu tekrarlı işlemlerin yapılmasında da döngüleri kullanırlar.\n",
    "\n",
    "> Yapılan işlemler tekrardan tekrara değişmez ama değişkenlerin değeri değişebilir.\n",
    "\n",
    "Belirli bir işlem sırasını 10 kere yapmak (tekrarlamak) istediğimizi düşünelim. Yapılacak işlemleri 10 kere alt alta yazmak da bir çözümdür; ancak\n",
    "    \n",
    " 1) Yapılacak işlemleri tam olarak 10 kere peş peşe yazmak demek bu işlemleri sadece 10 kez yapabileceğimiz anlamına gelir. \n",
    " \n",
    " 2) İşlemleri 10 değil 10 milyon kere tekrarlamak istediğimizde ne olur?    \n",
    " \n",
    " 3) Bir değişken için belirli bir değere ulaşana kadar işlemleri tekrarlamak istiyorsak ama bunun için kaç tekrar gerekeceğini bilmiyorsak ne olur?\n",
    "\n",
    "Döngüler burada sahneye çıkıyor!\n",
    "\n",
    "İki tip döngü operatörü vardır, **for** ve **while** döngüleri.\n",
    "\n",
    "* **for** döngüsünü kullanarak yapılacak işlemler için belirli bir iterasyon (tekrar) değeri tanımlayabiliriz.\n",
    "* **for** döngüsünü kullanarak bir liste, dizi veya sözlük üzerinde bütün elemanları için tekrarlanacak işlemler tanımlayabiliriz.\n",
    "* **while** döngüsünü kullanarak belirli bir değişken istenilen eşik değeri aşana kadar işlemlerin tekrarlanmasını sağlayabiliriz.\n",
    "\n",
    "Örneğin $x$ değişkeninin değerini 5 kere 1'er 1'er arttırmak istersek aşağıdaki gibi bir döngü kodu yazabiliriz:"
   ]
  },
  {
   "cell_type": "code",
   "execution_count": null,
   "metadata": {},
   "outputs": [],
   "source": [
    "x = 10 # x'in değerini değiştirerek çıktı satırındaki değişiklikleri inceleyebilirsiniz.\n",
    "print(\"x'in başlangıç değeri %d 'dir.\" %x)\n",
    "for i in range(5): # i tekrar sayısını takip eden değişkendir ve sırasıyla 0, 1, 2, 3, 4 değerlerini alır.\n",
    "    x = x + 1 # x değişkeninin değerini 1 arttırır\n",
    "    print(\"x is equal to %d\" %x) # x'in yeni değerinin ne olduğunu ekrana yazdırır.\n",
    "    "
   ]
  },
  {
   "cell_type": "markdown",
   "metadata": {},
   "source": [
    "Burada $i$  tekrar (iterasyon) sayacı olarak görev yapar ve __range(5)__  fonksiyonu de $i$ sayacının sırayla alacağı değerler ($[0,1,2,3,4]$) belirler . \n",
    "\n",
    "Yukarıdaki kodda döngü boyunca $x$ değişkenin değerinin nasıl değiştiğini görebiliyoruz; ancak $i$ değişkeninin değerinin nasıl değiştiğini görmek için aşağıdaki düzenlemeyi yapmamız gerekmektedir."
   ]
  },
  {
   "cell_type": "code",
   "execution_count": null,
   "metadata": {},
   "outputs": [],
   "source": [
    "x = 10 # x'in değerini değiştirerek çıktı satırındaki değişiklikleri inceleyebilirsiniz.\n",
    "print(\"x'in başlangıç değeri %d 'dir.\" %x)\n",
    "for i in range(5):\n",
    "    print(\"i is equal to %d\" %i)\n",
    "    x = x + 1\n",
    "    print(\"x is equal to %d\" %x)"
   ]
  },
  {
   "cell_type": "markdown",
   "metadata": {},
   "source": [
    "### Döngü ve Koşul İfadelerini Birleştirmek\n",
    "\n",
    "Döngüleri belirlenmiş bir işlem listesini tekrar tekrar yazmak yerine kullanacağımızdan bahsetmiştik. Bu yapılacak işlemler listesinde bir değişkenin değerine göre yapılacak işlemler değişebilir. Böyle durumlarda döngü ve koşul ifadeleri birleştirilir. \n",
    "\n",
    "### \"Bom!\" Oyunu\n",
    "Bom oyununda oyuncular sırasıyla sayı sayarlar; ancak 5 ve katlarında sayının kendisi yerine **bom** denilmesi gerekmektedir. \n",
    "\n",
    "Bom oyununu 100 kere tekrarlayacak bir python kodu aşağıdaki gibi yazılabilir:"
   ]
  },
  {
   "cell_type": "code",
   "execution_count": null,
   "metadata": {},
   "outputs": [],
   "source": [
    "for i in range(1,100):\n",
    "    if i % 5 == 0:\n",
    "        print(\"Bom!\")\n",
    "    else:\n",
    "        print(i)"
   ]
  },
  {
   "cell_type": "markdown",
   "metadata": {},
   "source": [
    "### Fonksiyonlar\n",
    "\n",
    "Fonksiyonlar belirli işlem listesini içeren ve genel olarak tanımlanmış metodlardır. Böylece bir metodu her çalıştırmak istediğimizde tekrar tekrar yazmamıza gerek kalmaz. Fonksiyonlar her çağrıldıklarında üzerinde işlem yaptıkları değişkenlerin parametre değerlerine bağlı olarak farklı sonuç üretebilirler.\n",
    "\n",
    "> Fonksiyonlar $f(x)=x^2$ gibi matematiksel olabilecekleri gibi belirli bir problemi çözmek için ihtiyaç duyulan sıralı işlemler *algoritmalar* olarak da tanımlanabilirler.\n",
    "\n",
    "Python'da fonksiyonlar iki şekilde tanımlanabilir:\n",
    "\n",
    " 1) Parametresiz fonksiyonlar: Bu fonksiyonlar her çağrıldıklarında aynı parametre değerini kullanarak işlem yaparlar.\n",
    " \n",
    " 2) Parametreli fonksiyonlar: Fonksiyon çağrılırken verilen parametre değerlerine göre işlem yaparlar.\n",
    "    \n",
    "Bir fonksiyon 3 parçaya ayrılır:\n",
    "\n",
    " 1) Fonksiyon ve parametre isimlerinin tanımlanması,\n",
    " \n",
    " 2) Yapılacak sıralı işlemler ve\n",
    " \n",
    " 3) Sonuç döndürme satırı (return line)\n",
    "    \n",
    "> Sonuç döndürme satırı (**return** line) olmadan fonksiyonun sonucu belleğe kaydedilmez!\n",
    "\n",
    "Matematiksel bir fonksiyon tanımlayalım ve bu fonksiyon verilen herhangi bir sayının karesini hesaplasın \n",
    "\n",
    "\\begin{equation}\n",
    "f(x) = x^2\n",
    "\\end{equation}\n",
    "\n",
    "Burada $f$ **fonksiyonun ismi**, $x$ **parametre** ve $x^2$ yapılacak işlem ve aynı zamanda fonksiyonun sonucudur."
   ]
  },
  {
   "cell_type": "code",
   "execution_count": null,
   "metadata": {},
   "outputs": [],
   "source": [
    "# Bu hücreyi shift + enter veya ctrl + enter ile çalıştırmayı unutmayın! \n",
    "def f(x):\n",
    "    return x ** 2"
   ]
  },
  {
   "cell_type": "markdown",
   "metadata": {},
   "source": [
    "Fonksiyonu $x$ parametresine farklı değerler vererek aşağıdaki gibi çağırabiliriz:"
   ]
  },
  {
   "cell_type": "code",
   "execution_count": null,
   "metadata": {},
   "outputs": [],
   "source": [
    "# x'in farklı değerleri için fonksiyonu çağırmayı deneyin.\n",
    "f(2)"
   ]
  },
  {
   "cell_type": "markdown",
   "metadata": {},
   "source": [
    "## Ders Özeti"
   ]
  },
  {
   "cell_type": "markdown",
   "metadata": {},
   "source": [
    "Bu derste genel olarak açıklanan her konu ilerleyen derslerde çok daha ayrıntılı olarak anlatılacaktır.\n",
    "\n",
    "Bu dersin sonunda aşağıdaki sorulara rahatlıkla cevap verebiliyor olmalısınız:\n",
    "\n",
    "1) Bir değişken nasıl tanımlanır?\n",
    "\n",
    "2) Dizi ve listenin farkı nedir?\n",
    "\n",
    "3) Koşul ifadeleri ne zaman kullanılır?\n",
    "\n",
    "4) Döngüler ne işe yarar?\n",
    "\n",
    "5) **for** ve **while** döngüsünün farkı nedir?\n",
    "\n",
    "6) Fonksiyon nedir?\n",
    "\n",
    "7) Bir fonksiyon nasıl tanımlanır?\n",
    "\n",
    "Artık Python'la ilgili temel bilgilere genel olarak hakim olduğunuza göre ilerleyen konulara geçebilirsiniz."
   ]
  },
  {
   "cell_type": "markdown",
   "metadata": {},
   "source": [
    "## Sıradaki Ders: Veri Tipleri\n",
    "\n",
    "Sıradaki ders olan **Veri tipleri** ders klasörüne gitmek için [tıklayınız.](../veri-tipleri)\n"
   ]
  }
 ],
 "metadata": {
  "kernelspec": {
   "display_name": "Python 3",
   "language": "python",
   "name": "python3"
  },
  "language_info": {
   "codemirror_mode": {
    "name": "ipython",
    "version": 3
   },
   "file_extension": ".py",
   "mimetype": "text/x-python",
   "name": "python",
   "nbconvert_exporter": "python",
   "pygments_lexer": "ipython3",
   "version": "3.7.3"
  }
 },
 "nbformat": 4,
 "nbformat_minor": 2
}
