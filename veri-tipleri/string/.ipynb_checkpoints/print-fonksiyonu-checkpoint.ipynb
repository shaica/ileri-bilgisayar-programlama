{
 "cells": [
  {
   "cell_type": "markdown",
   "metadata": {},
   "source": [
    "# Print Fonksiyonu"
   ]
  },
  {
   "cell_type": "markdown",
   "metadata": {},
   "source": [
    "[Python'a Giriş](../../pythona-giris/pythona-giris.ipynb) dersinde fonksiyonları **belirli işlem listesini içeren ve genel olarak tanımlanmış metodlar** olarak tanımlamıştık.\n",
    "\n",
    "`print` fonksiyonu Python'da gömülü olan bir fonksiyondur ve parametre olarak verilen değerlerin ekrana yazdırılmasını sağlar.\n",
    "\n",
    "[String Nedir?](string-nedir.ipynb) dersinde bir değişkenin değerini ekrana yazdırmak için iki farklı yöntem kullandık. Bu yöntemlerden ilki doğrudan değişkeni çağırmak ikincisi ise print fonksiyonunu kullanmaktı.\n",
    "\n",
    "Bu iki yöntemin arasındaki farkı aşağıdaki örneklerle inceleyelim:"
   ]
  },
  {
   "cell_type": "code",
   "execution_count": 1,
   "metadata": {},
   "outputs": [
    {
     "data": {
      "text/plain": [
       "'isminiz'"
      ]
     },
     "execution_count": 1,
     "metadata": {},
     "output_type": "execute_result"
    }
   ],
   "source": [
    "isim = \"isminiz\" # isim diye bir değişken oluşturup değerini isminiz olarak atama.\n",
    "isim             # isim değişkenini değerini görmek için bu değişkeni çağırma."
   ]
  },
  {
   "cell_type": "code",
   "execution_count": 2,
   "metadata": {},
   "outputs": [
    {
     "name": "stdout",
     "output_type": "stream",
     "text": [
      "isminiz\n"
     ]
    }
   ],
   "source": [
    "print(isim)     # isim değişkenin değerini ekrana yazdırmak için print fonksiyonunun kullanılması."
   ]
  },
  {
   "cell_type": "markdown",
   "metadata": {},
   "source": [
    "> Bu iki yöntemin oluşturduğu çıktılara baktığımızda değişken doğrudan çağrıldığında tuttuğu değer olan isminiz yazısını tırnak içerisinde ekrana yazdırıyor. Print fonksiyonu ise bu değişkenin tuttuğu değeri tırnak işareti olmadan ekrana yazdırıyor.\n",
    "\n",
    "Bu iki yöntem arasındaki en önemli fark ise değişkenin değerini ekrana nasıl yazdığı değildir. Değişken doğrudan çağrıldığında Python'la olan iletişimimiz daha çok bir soru cevap ilişkisine benzer. \n",
    "\n",
    "Değişkenin adını yazıp enter'a bastığımızda Python'a **bu değişkenin değeri nedir?** sorusunu sormuş oluruz. Python da bize, eğer böyle bir değişken tanımlıysa, değerini **gösterir ama aslında bir çıktı üretmez.** Şimdiye kadar hep **ekrana bir şey yazdırmak** diye bahsettiğimiz eylemden kastımız **bir string, bir değişken değeri veya belirli işlemlerin sonucunu ekran veya bir dosyaya yazdırmak.** \n",
    "\n",
    "Bir değişkeni doğrudan çağırmak ve print fonksiyonunu kullanmak arasındaki farkı aşağıdaki gibi düşünebilirsiniz:\n",
    "\n",
    "1. **Bir değişkeni doğrudan çağırmak** derste hocaya bir soru sorup cevabı sadece dinlemeniz iken\n",
    "2. **Print fonksiyonunu kullanmak** aldığınız cevabı daha sonra erişebileceğiniz bir yere, defter gibi, not etmektir.\n",
    "\n",
    "Bu yüzden, artık bir şeyi ekrana yazdırmak istediğimizde `print()` fonksiyonunu kullanacağız."
   ]
  },
  {
   "cell_type": "markdown",
   "metadata": {},
   "source": [
    "## Nasıl Kullanılır?"
   ]
  },
  {
   "cell_type": "markdown",
   "metadata": {},
   "source": [
    "`print()` fonksiyonu parametreli bir fonksiyondur ve çeşitli parametrelere göre çalışır. Bu parametrelerden sadece bir tanesi zorunludur, diğerleri aksi belirtilmediği sürece ön tanımlı değerlere göre işleme girerler.\n",
    "\n",
    ">[Fonksiyonlar](../../fonksyionlar) dersinde zorunlu ve seçimli (opsiyonel) parametreler hakkında daha ayrıntılı işlenecektir.\n",
    "\n",
    "`print()` fonksiyonunun zorunlu parametresi **bu fonksiyonun ne yazdırması gerektiği** parametresidir. Bu parametre, bir string olabilir veya bir değişken olabilir."
   ]
  },
  {
   "cell_type": "code",
   "execution_count": 3,
   "metadata": {},
   "outputs": [
    {
     "name": "stdout",
     "output_type": "stream",
     "text": [
      "isminiz\n",
      "isminiz\n"
     ]
    }
   ],
   "source": [
    "isim = \"isminiz\" # isim değişkenini oluşturup değerinin isminiz olarak atanması\n",
    "print(isim)      # değişkenin değerini yazdırmak için print fonksiyonunun çağrılması\n",
    "print(\"isminiz\") # isminiz stringinin doğrudan parametre olarak yazılarak print fonksiyonunun çağrılması"
   ]
  },
  {
   "cell_type": "markdown",
   "metadata": {},
   "source": [
    "`print()` fonksiyonu **yazdırılacak değer** parametresi olarak aynı anda birden fazla parametre alabilir:"
   ]
  },
  {
   "cell_type": "code",
   "execution_count": 4,
   "metadata": {},
   "outputs": [
    {
     "name": "stdout",
     "output_type": "stream",
     "text": [
      "isminiz soyisminiz\n"
     ]
    }
   ],
   "source": [
    "soyisim = \"soyisminiz\" # soyisim değişkenini oluşturup değerinin soyisminiz olarak atanması\n",
    "print(isim, soyisim)   # sırasıyla isim ve soyisim değişkenlerinin yazdırılması için print fonksiyonunun çağrılması"
   ]
  },
  {
   "cell_type": "markdown",
   "metadata": {},
   "source": [
    "`print(isim, soyisim)` kodunun çalıştırılmasıyla elde ettiğimiz sonuçta iki değişkenin değeri arasında **bir boşluk** bulunmaktadır. Burada `print()` fonksiyonu daha önce aşağıdaki gibi yapmış olduğumuz işlemi yapmaktadır:"
   ]
  },
  {
   "cell_type": "code",
   "execution_count": 5,
   "metadata": {},
   "outputs": [
    {
     "data": {
      "text/plain": [
       "'isminiz soyisminiz'"
      ]
     },
     "execution_count": 5,
     "metadata": {},
     "output_type": "execute_result"
    }
   ],
   "source": [
    "isim + \" \" + soyisim"
   ]
  },
  {
   "cell_type": "markdown",
   "metadata": {},
   "source": [
    "`print()` fonksiyonunun içine yazdırılmak üzere kaç tane parametre girersek girelim her değerin arasına bir boşluk koyarak birleştirecektir (concatenate):"
   ]
  },
  {
   "cell_type": "code",
   "execution_count": 6,
   "metadata": {},
   "outputs": [
    {
     "name": "stdout",
     "output_type": "stream",
     "text": [
      "www . google . com\n"
     ]
    }
   ],
   "source": [
    "print(\"www\", \".\", \"google\", \".\", \"com\", \".\", \"tr\")"
   ]
  },
  {
   "cell_type": "markdown",
   "metadata": {},
   "source": [
    "### sep Parametresi"
   ]
  },
  {
   "cell_type": "markdown",
   "metadata": {},
   "source": [
    "Yukarıdaki örnekte `print()` fonksiyonunun içine 7 tane parametre girdik ve bunları girdiğimiz sırada ekrana yazdırmasını istemiş olduk. Ekrana yazdırmak istediğimiz satır `www.google.com.tr` bir internet adresi, yani karakterler arasında boşluk olmaması gerekiyor; ancak `print()` fonksiyonu yazdırılmak üzere girdiğimiz parametrelerin arasına birer boşluk ekleyerek birleştirmiş.\n",
    "\n",
    "Bunun nedeni `print()` fonksiyonunu çağırırken sadece **yazdırılmasını istediğimiz string değerlerini** parametre olarak girmiş olmamız ama bu değerlerin **nasıl birleştirileceğini** belirtmemiş olmamız.\n",
    "\n",
    "Yazdırılacak değerlerin bir boşlukla birleştirilmesinin sebebi `print()` fonksiyonunun opsiyonel parametrelerinden bir tanesi **sep** (seperator: ayırıcı, ayraç) parametresidir. Bu parametre değerinin ön tanımlı değeri **bir boşluk karakteridir** ve eğer fonksiyon çağırılırken farklı bir değer belirtilmezse bu şekilde birleştirir.\n",
    "\n",
    "Aşağıdaki kodu çalıştırarak **sep** parametresinin nasıl bir işlevi olduğunu daha ayrıntılı görebiliriz:"
   ]
  },
  {
   "cell_type": "code",
   "execution_count": 10,
   "metadata": {},
   "outputs": [
    {
     "name": "stdout",
     "output_type": "stream",
     "text": [
      "www . google . com . tr\n",
      "www*.*google*.*com*.*tr\n",
      "www!.!google!.!com!.!tr\n",
      "www...google...com...tr\n",
      "www.google.com.tr\n"
     ]
    }
   ],
   "source": [
    "print(\"www\", \".\", \"google\", \".\", \"com\", \".\", \"tr\", sep=\" \") # Ayraç olarak bir boşluk karakteri kullanılacaktır\n",
    "print(\"www\", \".\", \"google\", \".\", \"com\", \".\", \"tr\", sep=\"*\") # Ayraç olarak bir yıldız karakteri kullanılacaktır\n",
    "print(\"www\", \".\", \"google\", \".\", \"com\", \".\", \"tr\", sep=\"!\") # Ayraç olarak bir ünlem işareti kullanılacaktır\n",
    "print(\"www\", \".\", \"google\", \".\", \"com\", \".\", \"tr\", sep=\".\") # Ayraç olarak bir nokta işareti kullanılacaktır\n",
    "print(\"www\", \".\", \"google\", \".\", \"com\", \".\", \"tr\", sep=\"\")  # Ayraç olarak herhangi bir karakter kullanılmayacaktır"
   ]
  },
  {
   "cell_type": "markdown",
   "metadata": {},
   "source": [
    "Gördüğümüz gibi **sep** parametresine verdiğimiz değere bağlı olarak **virgülle ayrılmış yazdırılacak string değerlerinin** nasıl birleştirileceğini `print()` fonksiyonuna söylemiş oluyoruz.\n",
    "\n",
    "> **sep** yani ayraç parametresi tanımlanırken, kullanılacak karakterin de tırnak içinde yazılmış olduğuna dikkat ediniz. `sep=\".\"` String nedir dersinden hatırlayacağınız üzere bir string ancak başka bir string ile birleştirilebilir. Tırnak işareti kullanmadan sep parametre değerini atadığınızda ne olacağını görmek için yukarıdaki kod üzerinde oynayınız.\n",
    "\n",
    "Yukarıdaki kodda ayraç parametresi `sep=\".\"` şeklinde atandığında, yani **girilen string değerlerinin nokta işareti kullanarak birleştirilmesini** istediğimizde ekrana yazdırılan çıktı `www...google...com...tr` oluyor. Tipik bir internet adresinden beklendiği gibi `www.google.com.tr` şeklinde gözükmüyor. \n",
    "\n",
    "Aşağıdaki kod satırına sonuç çıktısı `www.google.com.tr` olacak şekilde bir `print()` fonksiyonu yazınız."
   ]
  },
  {
   "cell_type": "code",
   "execution_count": 11,
   "metadata": {},
   "outputs": [
    {
     "name": "stdout",
     "output_type": "stream",
     "text": [
      "\n"
     ]
    }
   ],
   "source": [
    "print()   # ekran çıktısı www.google.com.tr olacak şekilde bu satırı düzenleyiniz"
   ]
  },
  {
   "cell_type": "markdown",
   "metadata": {},
   "source": [
    "> **sep** parametresinin sadece girilen string değerlerinin **arasına** ayraç eklediğine dikkat ediniz."
   ]
  },
  {
   "cell_type": "markdown",
   "metadata": {},
   "source": [
    "### end Parametresi"
   ]
  },
  {
   "cell_type": "markdown",
   "metadata": {},
   "source": [
    "**sep** parametresi gibi özellikle belirtilmediği durumlarda ön tanımlı değerini kullanan bir diğer `print()` fonksiyonu parametresi de **end** parametresidir. Bu parametre ile yazdırılacak string değerlerinin **sonuna** hangi karakterin geleceği belirtilir. Yani `print()` fonksiyonuna cümleyi ne ile bitirmesi gerektiğini söyler.\n",
    "\n",
    "**end** parametresinin ön tanımlı değeri `\\n` bir sonraki satıra geçilmesini belirten kaçış dizisidir.\n",
    "\n",
    "Bu parametrenin çıktıyı nasıl etkilediğini daha iyi anlamak için aşağıdaki kodun çıktısını inceleyelim:"
   ]
  },
  {
   "cell_type": "code",
   "execution_count": 2,
   "metadata": {},
   "outputs": [
    {
     "name": "stdout",
     "output_type": "stream",
     "text": [
      "hello world!hello again\n"
     ]
    }
   ],
   "source": [
    "print(\"hello world!\") \n",
    "print(\"hello again\")"
   ]
  },
  {
   "cell_type": "markdown",
   "metadata": {},
   "source": [
    "Yukarıdaki kod alanında Python'a önce **hello world!** string değerini ekrana yazdırmasını, bu işlem bittikten sonra da **hello again** string değerini ekrana yazdırmasını istedik. `print()` fonksiyonunu çağırırken **end** parametresine herhangi bir değer atamadığımız için yazdığımız kod aslında aşağıdaki gibidir:\n",
    "\n",
    "```\n",
    "print(\"hello world!\", end=\"\\n\")\n",
    "print(\"hello again\", end=\"\\n\")\n",
    "```\n",
    "**end** parametresinin ön tanımlı değeri yazdırılacak string değerlerinin sonuna **bir sonraki satıra geç** anlamına gelen `\\n` kaçış dizisiydi. Böylece **hello world!** ve **hello again** stringleri alt alta yazılmış oldu. Bu kodları aşağıdaki gibi düzenlediğimiz zaman oluşan ekran çıktısını inceleyelim:"
   ]
  },
  {
   "cell_type": "code",
   "execution_count": 3,
   "metadata": {},
   "outputs": [
    {
     "name": "stdout",
     "output_type": "stream",
     "text": [
      "hello world!hello again\n"
     ]
    }
   ],
   "source": [
    "print(\"hello world!\", end=\"\") \n",
    "print(\"hello again\")"
   ]
  },
  {
   "cell_type": "markdown",
   "metadata": {},
   "source": [
    "Ekrana **hello world!** yazdıracak olan `print()` fonksiyonunun **end** parametre değerini **herhangi bir karakter içermeyecek** şekilde düzenlediğimiz için ikinci yazdırılacak olan **hello again** stringi hemen yanına, hiçbir boşluk bırakmadan, yazılmış oldu.\n",
    "\n",
    "> Yukarıdaki kod alanında `print(\"hello world\", end=\"\")` satırındaki end parametresinin değerini değiştirerek oluşan sonuçları inceleyiniz. **end** parametresi olarak kendi adınızı girdiğinizde neler olacağına bakabilirsiniz."
   ]
  },
  {
   "cell_type": "markdown",
   "metadata": {},
   "source": [
    "`print()` fonksiyonunun başka kullanışlı özellikleri de bulunmaktadır. Daha önce bu fonksiyonu kullandığımızda yazdırılacak parametreleri bir dosya içine de yazabileceğimizden bahsetmiştik. Bu ders kapsamında bir dosya üzerine yazmayacağımız için bu parametreyi ayrıntılı incelemeyeceğiz."
   ]
  },
  {
   "cell_type": "markdown",
   "metadata": {},
   "source": [
    "## Ders Özeti"
   ]
  },
  {
   "cell_type": "markdown",
   "metadata": {},
   "source": [
    "Bu dersin sonunda aşağıdaki sorulara rahatlıkla cevap verebiliyor olmalısınız:\n",
    "\n",
    "1. `print()` fonksiyonu nedir?\n",
    "2. Nasıl kullanılır?\n",
    "3. `print()` fonksiyonunun zorunlu parametreleri nelerdir?\n",
    "4. Yazdırılacak değer parametresi birden fazla olabilir mi?\n",
    "5. `print()` fonksiyonunun opsiyonel parametreleri nelerdir?\n",
    "6. **sep** parametresinin ön tanımlı değeri nedir? Nasıl değiştirilir?\n",
    "7. **end** parametresinin ön tanımlı değeri nedir? Nasıl değiştirilir?"
   ]
  },
  {
   "cell_type": "markdown",
   "metadata": {},
   "source": [
    "## Sıradaki Ders: String Metodları\n",
    "\n",
    "Sıradaki ders olan **String Metodları** dersine gitmek için [tıklayınız.](string-metodlari.ipynb)"
   ]
  }
 ],
 "metadata": {
  "kernelspec": {
   "display_name": "Python 3",
   "language": "python",
   "name": "python3"
  },
  "language_info": {
   "codemirror_mode": {
    "name": "ipython",
    "version": 3
   },
   "file_extension": ".py",
   "mimetype": "text/x-python",
   "name": "python",
   "nbconvert_exporter": "python",
   "pygments_lexer": "ipython3",
   "version": "3.7.3"
  }
 },
 "nbformat": 4,
 "nbformat_minor": 2
}
