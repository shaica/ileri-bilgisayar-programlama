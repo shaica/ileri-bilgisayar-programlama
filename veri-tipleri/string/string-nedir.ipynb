{
 "cells": [
  {
   "cell_type": "markdown",
   "metadata": {},
   "source": [
    "# String Nedir?"
   ]
  },
  {
   "cell_type": "markdown",
   "metadata": {},
   "source": [
    "**String** kelimesinin Türkçe karşılığı [sicim, dizi](https://tureng.com/tr/turkce-ingilizce/string)dir. Programlama dillerinde de benzer bir anlamı vardır ve bu **çeşitli yazı karakterleri ve nümerik değerlerden oluşan bir dizi eleman**dır. \n",
    "\n",
    "Karakter dizileri programlama dili içerisinde tek tırnak işareti, çift tırnak işareti veya üçlü tırnak işareti içerisinde tanımlanırlar. Tırnak işaretlerinin çeşitliliğine değinmeden önce bir **karakter dizisi**ni diğer değişkenlerden nerelerde ayrıştığını inceleyelim.\n",
    "\n",
    "$x$ üzerinde işlem yapacağımız değişken olsun, $x$ değişkenine değer atamak için aşağıdaki gibi $x = değer$ kodunu yazmamız gerekir:"
   ]
  },
  {
   "cell_type": "markdown",
   "metadata": {},
   "source": [
    ">Örnek kod satırlarını *Shift+Enter* veya *CTRL+Enter* tuşlarıyla çalıştırmayı unutmayın!"
   ]
  },
  {
   "cell_type": "code",
   "execution_count": null,
   "metadata": {},
   "outputs": [],
   "source": [
    "x = '5' # Burada x değerine 5 değerini atamış oluyoruz.\n",
    "        # Bu satırı çalıştırdığınızda ekranda herhangi bir sonuç görmeyeceğiz, burada sadece x'in bir değişken \n",
    "        # olduğunu ve değerinin de 5 olduğunu söylemiş olduk."
   ]
  },
  {
   "cell_type": "code",
   "execution_count": null,
   "metadata": {},
   "outputs": [],
   "source": [
    "x       # x değişkeninin bellekte hangi değeri tuttuğunu görmek için kullanabileceğimiz yöntemlerden birisi komut satırına \n",
    "        # doğrudan x yazıp çalıştırmaktır. "
   ]
  },
  {
   "cell_type": "markdown",
   "metadata": {},
   "source": [
    "> $x$ değişkenini tanımlarken, sayısal bir değer olan 5 değerini tırnak içerisinde `''` kullandığımıza dikkat edin!"
   ]
  },
  {
   "cell_type": "markdown",
   "metadata": {},
   "source": [
    "$x$ değişkeninin tuttuğu değer 5 sayısal bir değer gibi gözükebilir. Bu değişken üzerinde matematiksel bir işlem yapmayı deneyelim. $x$ değişkenin değerini $1$ arttırıp yine bu değişkene kaydetmek için yazmamız gereken kod aşağıdaki gibidir:\n",
    "\n",
    "```\n",
    "x = x + 1\n",
    "```\n",
    "\n",
    "> Bu kodun sonucunda neler olacağını görmek için aşağıdaki kod satırını çalıştırınız."
   ]
  },
  {
   "cell_type": "code",
   "execution_count": null,
   "metadata": {},
   "outputs": [],
   "source": [
    "x = x + 1 # x değişkeninin değerini 1 arttır ve x değişkenine kaydet."
   ]
  },
  {
   "cell_type": "markdown",
   "metadata": {},
   "source": [
    "Yukarıdaki kodu çalıştırdığımızda karşılaştığımız sonuç **TypeError** şeklinde bir hata satırı olur.\n",
    "\n",
    "Bu hatanın açıklaması olarak da en alt satırdaki açıklamayı inceleyelim:\n",
    "\n",
    "> **TypeError**: can only concatenate str (not \"int\") to str\n",
    "\n",
    "Bu hatanın bize anlattığı durum **bir string (karakter dizisi) ancak başka bir string ile birleştirilebilir, integer (tam sayı) ile birleştirilemez!** olduğudur.\n",
    "\n",
    "Buradan çıkaracağımız iki önemli sonuç var:\n",
    "\n",
    "   1. Bir stringin ancak başka bir string ile işleme girebileceği ve\n",
    "   2. Bu işlemin toplama değil **birleştirme** işlemi olduğudur.\n",
    "    \n",
    "Karşılaştığımız **TypeError** hatasını incelemeye yukarıda işleme soktuğumuz $x$ değişkeninin ve $1$ değerinin türünü inceleyerek başlayalım:\n",
    "\n",
    ">[Python'a Giriş](../../pythona-giris/pythona-giris.ipynb) dersinde öğrendiğimiz `type()` fonksiyonunu kullanarak $x$ değişkeninin tipini öğrenebiliriz."
   ]
  },
  {
   "cell_type": "code",
   "execution_count": null,
   "metadata": {},
   "outputs": [],
   "source": [
    "type(x)"
   ]
  },
  {
   "cell_type": "code",
   "execution_count": null,
   "metadata": {},
   "outputs": [],
   "source": [
    "type(1)"
   ]
  },
  {
   "cell_type": "markdown",
   "metadata": {},
   "source": [
    "Yukarıdaki kodların sonucundan gördüğümüz üzere $x$ değişkeninin türü **string** iken $1$ değerinin türü **int**. Böylece karşılaştığımız hatanın ilk sonucu olan **bir stringin ancak başka bir stringle** işleme girebileceğini kısmını anlamış oluyoruz.\n",
    "\n",
    "Hatanın ikinci kısmında belirtilen işlem türü olan **concatenate** işlemini incelemek için ` x = x + '1' ` değişken kodunu çalıştıralım:\n",
    "\n",
    "> Burada işleme aldığımız $1$ değerini `''` içinde yazdığımıza dikkat edin!"
   ]
  },
  {
   "cell_type": "code",
   "execution_count": null,
   "metadata": {},
   "outputs": [],
   "source": [
    "x = x + '1'"
   ]
  },
  {
   "cell_type": "markdown",
   "metadata": {},
   "source": [
    "Bu kodu çalıştırdığımızda herhangi bir hata mesajıyla karşılaşmadığımız gibi bir sonuç çıktısı da vermedi. $x$ değişkeninin son halini görmek için aşağıdaki kodu çalıştırabiliriz:"
   ]
  },
  {
   "cell_type": "code",
   "execution_count": null,
   "metadata": {},
   "outputs": [],
   "source": [
    "x"
   ]
  },
  {
   "cell_type": "markdown",
   "metadata": {},
   "source": [
    "Gördüğümüz gibi değişkenin tuttuğu değer ve eklemeye çalıştığımız değerler **string** olduğu için yaptığımız işlem `+` matematiksel karşılığı olan **toplama işlemi** olarak çalışmıyor. Bu iki değeri yanyana ekleyip bu değeri tutuyor. $x$ değişkenin tuttuğu değer hala bir **string**, çıktının yani $51$ sayısının `''` içinde gösterildiğine dikkat edin! \n",
    "\n",
    "Şimdi $x$ değişkenine tekrar `'5'` değerini atayalım ve bu sefer `+ ' 1'` değeriyle birleştirelim ve sonucunu görmek için $x$ değişkenini çağıralım:\n",
    "\n",
    "> $1$ değerinin önündeki boşluğa dikkat edin!"
   ]
  },
  {
   "cell_type": "code",
   "execution_count": null,
   "metadata": {},
   "outputs": [],
   "source": [
    "# Bu satırdaki kodu aşağıdaki işlemleri gerçekleştirecek şekilde düzenleyiniz!\n",
    "x = '5'       # x değişkeninin değerini '5' olarak tanımlayın.\n",
    "x = x + ' 1'  # x değişkeninin değerine ' 1' (boşluk1) değerini ekleyerek yine x değişkeninin değeri olarak tanımlayın.\n",
    "x             # x değişkeninin değerini görmek için değişkeni çağırın."
   ]
  },
  {
   "cell_type": "markdown",
   "metadata": {},
   "source": [
    "Bu işlemlerin sonucunda görmeniz gereken çıktı aşağıdaki gibi olmalı:\n",
    "    \n",
    "```\n",
    "'5 1'\n",
    "```\n",
    "\n",
    " $5$ ve $1$ değerinin arasındaki boşluk, değişken değeriyle birleştirmek istediğimiz $1$ değerinin önündeki boşluktan kaynaklanıyor. Bu birleştirme işlemini daha iyi anlayabilmek için aşağıdaki adımları takip edelim:\n",
    " \n",
    " 1. **isim** adında bir değişken tanımlayın ve bu değişkenin değeri olarak isminizi atayın.\n",
    " 2. **soyisim** adında bir değişken tanımlayın ve bu değişkenin değeri olarak soyisminizi atayın.\n",
    " 3. Bu iki değişkeni `+` operatörüyle birleştirin.\n",
    " \n",
    "> İsim, soyisim gibi alfabetik değerler içeren değişkenler **string** olarak tanımlanmalıdır. Stringler ise tırnak içinde yazılmalıdır! Eğer değişken tanımlamaları yaparken bir hata ile karşılaşırsanız öncelikli olarak tırnak işareti kullanıp kullanmadığınıza dikkat ediniz!"
   ]
  },
  {
   "cell_type": "code",
   "execution_count": null,
   "metadata": {},
   "outputs": [],
   "source": [
    "# Bu satırdaki kodu aşağıdaki işlemleri gerçekleştirecek şekilde düzenleyiniz!\n",
    "           # isim değişkeni tanımlayın ve değerini isminiz olarak atayın.\n",
    "           # soyisim değişkeni tanımlayın ve değerini soyisminiz olarak atayın.\n",
    "           # isim ve soyisim değişkenlerini + operatörüyle birleştirin."
   ]
  },
  {
   "cell_type": "markdown",
   "metadata": {},
   "source": [
    "Yukarıdaki işlemleri tamamladığınızda çıkan sonuç satırında isim ve soyisminiz arasında boşluk olmadığını görmelisiniz.\n",
    "\n",
    "Şimdi aşağıdaki kodu çalıştırıp sonuçları karşılaştıralım:"
   ]
  },
  {
   "cell_type": "code",
   "execution_count": null,
   "metadata": {},
   "outputs": [],
   "source": [
    "isim + ' ' + soyisim"
   ]
  },
  {
   "cell_type": "markdown",
   "metadata": {},
   "source": [
    "Artık isim ve soyisminiz arasında bir boşluk görmelisiniz. Buradan çıkaracağımız ana sonuç bir string içerisinde tanımlandığında **boşluğun bir karakter olarak değerlendirildiğidir!**\n",
    "\n",
    "> String birleştirme **concatenate** işlemi hakkında string metodları dersinde daha ayrıntılı bilgi verilecektir.\n",
    "\n",
    "Aşağıdaki egzersizleri tamamlayarak stringler hakkında biraz daha fikir sahibi olabilirsiniz.\n",
    "\n",
    "> Aşağıdaki satırlarda verilen yönlendirmeleri takip ederek istenilen işlemleri gerçekleştirip sonuçlarını inceleyiniz."
   ]
  },
  {
   "cell_type": "code",
   "execution_count": null,
   "metadata": {},
   "outputs": [],
   "source": [
    "# Bu satırdaki kodu aşağıdaki işlemleri gerçekleştirecek şekilde düzenleyiniz!\n",
    "        # Tanımlanmış olan isim ve soyisim değişkenlerini arada boşluk yerine farklı karakterler kullanarak birleştirin.\n",
    "            # Ortadaki değeri tırnak içinde yazmayı unutmayın!"
   ]
  },
  {
   "cell_type": "code",
   "execution_count": null,
   "metadata": {},
   "outputs": [],
   "source": [
    "# Bu satırdaki kodu aşağıdaki işlemleri gerçekleştirecek şekilde düzenleyiniz!\n",
    "        # Tanımlanmış olan isim ve soyisim değişkenlerini önce soyisminiz yazacak şekilde düzenleyin."
   ]
  },
  {
   "cell_type": "code",
   "execution_count": null,
   "metadata": {},
   "outputs": [],
   "source": [
    "# Bu satırdaki kodu aşağıdaki işlemleri gerçekleştirecek şekilde düzenleyiniz!\n",
    "        # Sonuç satırında aralarında bir boşluk olacak şekilde isminizi yanyana iki kere yazdırın."
   ]
  },
  {
   "cell_type": "markdown",
   "metadata": {},
   "source": [
    "## Kaçış Dizileri"
   ]
  },
  {
   "cell_type": "markdown",
   "metadata": {},
   "source": [
    "Bu dersin başında string tanımlarken tırnak işareti kullanmamız gerektiğinden bahsetmiştik. \n",
    "\n",
    "Kullanabileceğimiz tırnak işaretleri\n",
    "\n",
    " 1. Tek tırnak işareti: `'string'`\n",
    " 2. Çift tırnak işareti: `\"string\"` veya\n",
    " 3. Üçlü tırnak işareti: `\"\"\"string\"\"\"` olabilir.\n",
    " \n",
    "Aşağıdaki kod satırlarını çalıştırarak bu üç farklı tırnak işaretinin kullanımını inceleyelim."
   ]
  },
  {
   "cell_type": "code",
   "execution_count": null,
   "metadata": {},
   "outputs": [],
   "source": [
    "isimTek = 'isminiz' # Bütün satırlardaki 'isminiz' string değerini kendi adınızla değiştirebilirsiniz.\n",
    "isimCift = \"isminiz\"\n",
    "isimUclu = \"\"\"\n",
    "      is\n",
    "        mi\n",
    "          niz\"\"\"\n",
    "\n",
    "# Bu kısımdan aşağıdaki kodlarda değişiklik yapmayınız.\n",
    "# Buradaki print fonksiyonu henüz bilmeniz gereken bir şey değil, sadece sonucu daha net görebilmek için kullanıyoruz.\n",
    "\n",
    "print(isimTek)\n",
    "print(isimCift)\n",
    "print(isimUclu)"
   ]
  },
  {
   "cell_type": "markdown",
   "metadata": {},
   "source": [
    "Sonuç satırında `isimTek` ve `isimCift` değişkenlerinin tuttuğu değerler tamamen aynı gözükürken `isimUclu` değişkeni ise bir merdiven gibi gözükmelidir.\n",
    "\n",
    "`isimUclu` değişkenindeki sonucu elde etmek için tek ve çift tırnakları kullanmayı deneyelim."
   ]
  },
  {
   "cell_type": "code",
   "execution_count": null,
   "metadata": {},
   "outputs": [],
   "source": [
    "# Sonucun ne olduğunu görmek için çift tırnak işaretini önce tek tırnakla sonra da üçlü tırnakla değiştiriniz.\n",
    "isimCift = \"\n",
    "is\n",
    "  mi\n",
    "    niz\""
   ]
  },
  {
   "cell_type": "markdown",
   "metadata": {},
   "source": [
    "Yukarıdaki kodu çalıştırdığımızda yine bir hata sonucuyla karşılaştık. Daha önce karşılaştığımız **TypeError**dan (Tür Hatası) farklı olarak bu sefer kodun **SyntaxError** (Yazım Hatası) döndürdüğünü görüyoruz. Aşağıdaki hata satırını inceleyelim:\n",
    "\n",
    "> **SyntaxError**: EOL while scanning string literal\n",
    "\n",
    "SyntaxError'ün yazım hatası demek olduğunu yukarıda belirtmiştik. **EOL** ise **End Of Line** kelimelerinin kısaltmasıdır, yani **satır sonu** demek. Hatanın geri kalanıyla birleştirdiğimizde Python bize **bir yazım hatası bulduğunu ve bu hatanın tırnak işaretinden sonra bir string değeri ararken satır sonuyla karşılaşmasından kaynaklandığını** söylüyor. \n",
    "\n",
    "Üçlü tırnak işareti, Python'a gelecek string değerlerinin birden fazla satırda yer alacağını belirtir. Bu yüzden üçlü tırnak işaretini kullanırken **SyntaxError** hatasıyla karşılaşmıyoruz.\n",
    "\n",
    "Çift tırnak işaretini veya tek tırnak işaretini kullanarak da birden fazla satıra yazı yazabiliriz. Bu tırnak işaretlerini kullanarak bir sonraki satıra geçmek istediğimizde `\\n` ifadesini kullanmamız gerekir. Bu ifade Python'a bir sonraki satıra geçmesini belirtir ve bu bölümde göreceğimiz **kaçış dizi**lerinin ilk örneğidir.\n",
    "\n",
    "> Aşağıdaki örnekte `\\n` kaçış dizisi kullanılırken boşluk kullanılmadığına dikkat ediniz!"
   ]
  },
  {
   "cell_type": "code",
   "execution_count": null,
   "metadata": {},
   "outputs": [],
   "source": [
    "isimCift = 'is\\nmi\\niz'\n",
    "print(isimCift)"
   ]
  },
  {
   "cell_type": "markdown",
   "metadata": {},
   "source": [
    "`\\n` gibi Python'a string içerisinde belirli işlemleri yapmasını söyleyen hazır ifade kalıplarına **kaçış dizileri** denilmektedir. Bu ifade kalıpları `\\` (ters taksim, slash) ifadeleriyle başlar ve bu işaretin ardından gelecek bilgiye işlem yapılır.\n",
    "\n",
    "Kullanabileceğimiz kaçış dizileri Python'da tanımlıdır, bunlardan bazıları:\n",
    "\n",
    " 1. `\\t` : **Sekme, tab** bulunduğu yere bir sekme (tab) boşluk ekler.\n",
    " 2. `\\a` : **Zil sesi** kod çalıştırıldığında bir zil sesi çalınmasını sağlar.\n",
    " \n",
    " Tam liste için [bu linki](http://python-ds.com/python-3-escape-sequences) inceleyebilir ve [bu kitaptan](https://www.python.tc/wp-content/uploads/2017/06/python-kitap.pdf) ayrıntılı bilgi edinebilirsiniz.\n",
    " \n",
    " Çift tırnak ve tek tırnak işaretiyle oluşturduğumuz isim değişkenlerini çalıştırdığımızda aynı sonucu aldığımızı görmüştük. Şimdi bu tırnak işaretlerini kullanarak aşağıdaki cümleyi Python'a yazdırmaya çalışalım:\n",
    " \n",
    " > Python programlama dilinin adı 'piton' yılanından gelmez!\n",
    " \n",
    " Bu yazıyı ekrana yazdırırken **piton** kelimesinin tırnak içerisinde olmasını istiyoruz. Aşağıdaki kodları çalıştırarak sonuçlarını inceleyelim:"
   ]
  },
  {
   "cell_type": "code",
   "execution_count": null,
   "metadata": {},
   "outputs": [],
   "source": [
    "print(\"Python programlama dilinin adı 'piton' yılanından gelmez!\")"
   ]
  },
  {
   "cell_type": "code",
   "execution_count": null,
   "metadata": {},
   "outputs": [],
   "source": [
    "print('Python programlama dilinin adı 'piton' yılanından gelmez!')"
   ]
  },
  {
   "cell_type": "markdown",
   "metadata": {},
   "source": [
    "Bu cümleyi çift tırnak işaretlerinin arasında ve piton kelimesini de tek tırnak arasında yazdığımızda bir hatayla karşılaşmıyoruz; ancak ana cümleyi de tek tırnak işaretleri arasında yazdığımız zaman Python bize yine bir yazım hatası yaptığımızı söylüyor.\n",
    "\n",
    "Bu iki kod satırına biraz daha yakından bakalım:\n",
    "\n",
    "![tırnakIsareti](images/tırnakIsareti.png)\n",
    "\n",
    "Burada ana cümleyi saran tırnak işaretinin haricinde piton kelimesinin renklerinin de farklı olduğu gözüküyor. İkinci kodda (şekilde sağdaki kod) piton kelimesini bir string olarak algılamıyor, Python string olarak tanıdığı değerleri kırmızı ile işaretlemiş ama piton kelimesinin rengi farklı. Bu kodu Python'ın şu şekilde anladığını söyleyebiliriz:\n",
    "\n",
    "1. Kullanıcı ilk tek tırnak işaretini açtı, bir string yazacak.\n",
    "2. Kullanıcı `adı ` değerinden sonra bir tek tırnak işareti daha kullandı, demekki ilk tırnak işaretiyle başladığı işlemi bitirdi.\n",
    "3. Kullanıcı **piton** diye bir şey yapmamı istiyor, bunu bilmiyorum ve burada böyle bir yazım beklemiyorum.\n",
    "\n",
    "> Sonuç: Yazım hatası yani SyntaxError\n",
    "\n",
    "Peki ana cümleyi çift tırnak içerisine yazdığımızla bu yazım hatasıyla neden karşılaşmadık? Bu kodu Python'ın şu şekilde anladığını söyleyebiliriz:\n",
    "\n",
    "1. Kullanıcı ilk çift tırnak işaretini açtı, bir string yazacak.\n",
    "2. Kullanıcı ilk tek tırnak işaretini açtı, bu kullanıcının yazdığını stringin bir parçası.\n",
    "3. Kullanıcı ikinci bir tek tırnak işareti kullandı, bu hala yazdığı stringin bir parçası.\n",
    "4. Kullanıcı ikinci bir çift tırnak işareti kullandı, kullanıcı daha string yazmayacak!\n",
    "\n",
    "> Sonuç: Ekranda istediğimiz cümlenin yazdığını görüyoruz.\n",
    "\n",
    "Peki aşağıdaki kodun hatasız olarak çalışması ve istediğimiz sonucu ekrana yazdırması için bir şey yapabilir miyiz?\n",
    "\n",
    "```\n",
    "'Python programlama dili adını 'piton' yılanından almaz!'\n",
    "```\n",
    "\n",
    "Kaçış dizilerinin `\\n` gibi Python'a string içerisinde belirli işlemleri yapmasını söyleyen hazır ifade kalıpları olduğunu söylemiştik. Bu kalıpların hepsinin ortak noktası `\\` (ters taksim) ile başlıyor olması. Ters taksim işareti **kaçış dizilerinin** kullanılmasını sağlar. Bu işaret karakter dizilerini tanımlarken oluşabilecek hatalardan kaçınmamızı sağlar ve iki şekilde işlev görür:\n",
    "\n",
    "1. Python'da tanımlanmış olan `\\n`, `\\t` gibi ifadelerin çalıştırılması ve metin yapısının düzenlenmesi,\n",
    "2. Ekrana yazdırılmasını istediğimiz bir karakterin önceden belirlenmiş bir görevi varsa bu görevden **kaçılması** ve bu karakterin bir string değeri olarak işlenmesi.\n",
    "\n",
    "Ters taksim karakterini kullanarak kodu aşağıdaki gibi düzenlediğimizde Python cümle içinde kullanılan tek tırnak işaretlerinin bir stringin bitiş ve başlangıç noktalarını belirtmediğini, sadece bir noktalama işareti olduğunu anlar:\n"
   ]
  },
  {
   "cell_type": "code",
   "execution_count": null,
   "metadata": {},
   "outputs": [],
   "source": [
    "print('Python programlama dili adını \\'piton\\' yılanından almaz!')"
   ]
  },
  {
   "cell_type": "markdown",
   "metadata": {},
   "source": [
    "O zaman aşağıdaki cümleyi nasıl yazmalıyız?\n",
    "\n",
    "> İstanbul'un yedi tepesi vardır."
   ]
  },
  {
   "cell_type": "code",
   "execution_count": null,
   "metadata": {},
   "outputs": [],
   "source": [
    "# Bu satırdaki kodu sonuç çıktısında İstanbul'un yedi tepesi vardır. yazacak şekilde düzenleyiniz!\n",
    "print('İstanbul'un yedi tepesi vardır.')"
   ]
  },
  {
   "cell_type": "markdown",
   "metadata": {},
   "source": [
    "## Ders Özeti"
   ]
  },
  {
   "cell_type": "markdown",
   "metadata": {},
   "source": [
    "Bu dersin sonunda aşağıdaki sorulara rahatlıkla cevap verebiliyor olmalısınız:\n",
    "\n",
    "1. String nedir?\n",
    "\n",
    "2. String nasıl tanımlanır?\n",
    "\n",
    "3. Bir string hangi veri tipleriyle işleme girebilir?\n",
    "\n",
    "4. String tanımlanırken kullanılan tırnak işaretlerinin farkı nedir?\n",
    "\n",
    "5. Kaçış ifadeleri nedir?\n",
    "\n",
    "6. Kaçış ifadeleri nasıl tanımlanır?\n",
    "\n",
    "7. **TypeError** nedir?\n",
    "\n",
    "8. **SyntaxError** nedir?"
   ]
  },
  {
   "cell_type": "markdown",
   "metadata": {},
   "source": [
    "## Sıradaki Ders: Print Fonksiyonu\n",
    "\n",
    "Sıradaki ders olan **Print Fonksiyonu** dersine gitmek için [tıklayınız.](print-fonksiyonu.ipynb)\n"
   ]
  }
 ],
 "metadata": {
  "kernelspec": {
   "display_name": "Python 3",
   "language": "python",
   "name": "python3"
  },
  "language_info": {
   "codemirror_mode": {
    "name": "ipython",
    "version": 3
   },
   "file_extension": ".py",
   "mimetype": "text/x-python",
   "name": "python",
   "nbconvert_exporter": "python",
   "pygments_lexer": "ipython3",
   "version": "3.7.3"
  }
 },
 "nbformat": 4,
 "nbformat_minor": 2
}
